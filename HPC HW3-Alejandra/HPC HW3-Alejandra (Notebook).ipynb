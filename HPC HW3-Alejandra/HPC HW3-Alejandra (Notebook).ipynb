{
 "cells": [
  {
   "cell_type": "markdown",
   "metadata": {},
   "source": [
    "\n",
    "<h1 align='center' style='margin-bottom: 0px'>HPC Assignment 3</h1>\n",
    "<h4 align='center' style='margin-top: 0px'> Alejandra T. Manotas</h4>\n"
   ]
  },
  {
   "cell_type": "markdown",
   "metadata": {},
   "source": [
    "<h3 aling='left' style='margin-top: 0px'> 1. Python Performance</h4> "
   ]
  },
  {
   "cell_type": "markdown",
   "metadata": {},
   "source": [
    "Here I compared three different ways to made a $\\textbf{for loop}$. The first one is the normal loop, the second one is the loop with a function called $\\textbf{map(function,iterations)}$, and the last one is the loop in $\\textbf{the comprehension form}$."
   ]
  },
  {
   "cell_type": "code",
   "execution_count": 1,
   "metadata": {},
   "outputs": [],
   "source": [
    "import numpy as np\n",
    "import time as t"
   ]
  },
  {
   "cell_type": "code",
   "execution_count": 2,
   "metadata": {},
   "outputs": [],
   "source": [
    "list1={1,2,3,4,5,6,7,8,9}"
   ]
  },
  {
   "cell_type": "code",
   "execution_count": 3,
   "metadata": {},
   "outputs": [
    {
     "name": "stdout",
     "output_type": "stream",
     "text": [
      "0.0002541542053222656\n",
      "[1, 2, 9, 4, 25, 6, 49, 8, 81]\n"
     ]
    }
   ],
   "source": [
    "list2=[]\n",
    "tp1=0.0\n",
    "tp1=t.time()\n",
    "for x in list1:\n",
    "    if(x%2==0):\n",
    "        list2.append(x)\n",
    "    else:\n",
    "        list2.append(x**2)\n",
    "tp1=t.time()-tp1\n",
    "print (tp1)\n",
    "print (list2)\n"
   ]
  },
  {
   "cell_type": "code",
   "execution_count": 4,
   "metadata": {},
   "outputs": [
    {
     "name": "stdout",
     "output_type": "stream",
     "text": [
      "8.606910705566406e-05\n",
      "<map object at 0x7fc92229cb00>\n"
     ]
    }
   ],
   "source": [
    "list3=[]\n",
    "tp2=0.0\n",
    "tp2=t.time()\n",
    "list3=map(x if x%2==0 else x**2,list1)\n",
    "tp2=t.time()-tp2\n",
    "print (tp2)\n",
    "print (list3)"
   ]
  },
  {
   "cell_type": "code",
   "execution_count": 5,
   "metadata": {},
   "outputs": [
    {
     "name": "stdout",
     "output_type": "stream",
     "text": [
      "0.00018453598022460938\n",
      "[1, 2, 9, 4, 25, 6, 49, 8, 81]\n"
     ]
    }
   ],
   "source": [
    "list4=[]\n",
    "tp3=0.0\n",
    "tp3=t.time()\n",
    "list4=[x if x%2==0 else x**2 for x in list1]\n",
    "tp3=t.time()-tp3\n",
    "print (tp3)\n",
    "print (list4)"
   ]
  },
  {
   "cell_type": "markdown",
   "metadata": {},
   "source": [
    "In this part I had to compare the speed of make all loops outside of a function, and inside of it."
   ]
  },
  {
   "cell_type": "code",
   "execution_count": 6,
   "metadata": {},
   "outputs": [
    {
     "name": "stdout",
     "output_type": "stream",
     "text": [
      "0.0007770061492919922\n",
      "[[0.         0.         0.         0.         0.        ]\n",
      " [0.         1.         1.41421356 1.73205081 0.        ]\n",
      " [0.         2.         2.82842712 3.46410162 0.        ]\n",
      " [0.         3.         4.24264069 5.19615242 0.        ]\n",
      " [0.         0.         0.         0.         0.        ]]\n"
     ]
    }
   ],
   "source": [
    "#time starts\n",
    "tp3=0.\n",
    "tp3=t.time()\n",
    "#definition of the matrix global variable\n",
    "global matriz\n",
    "matriz=np.zeros((5,5))\n",
    "l=matriz.shape \n",
    "#definition of the function\n",
    "def changeval(i, j):\n",
    "    matriz[i][j]=i*np.sqrt(j)\n",
    "#loop outside the function\n",
    "for i in range(0,l[0]-1):\n",
    "    for j in range(0,l[0]-1):\n",
    "        changeval(i,j)  #call function\n",
    "#time ends       \n",
    "tp3=t.time()-tp3\n",
    "#Print results\n",
    "print (tp3)\n",
    "print (matriz)"
   ]
  },
  {
   "cell_type": "code",
   "execution_count": 41,
   "metadata": {},
   "outputs": [
    {
     "name": "stdout",
     "output_type": "stream",
     "text": [
      "0.0004203319549560547\n",
      "[[0.         0.         0.         0.         0.        ]\n",
      " [0.         1.         1.41421356 1.73205081 0.        ]\n",
      " [0.         2.         2.82842712 3.46410162 0.        ]\n",
      " [0.         3.         4.24264069 5.19615242 0.        ]\n",
      " [0.         0.         0.         0.         0.        ]]\n"
     ]
    }
   ],
   "source": [
    "#time starts\n",
    "tp4=0.\n",
    "tp4=t.time()\n",
    "#definition of the matrix global variable\n",
    "global matriz\n",
    "matriz=np.zeros((5,5))\n",
    "l=matriz.shape\n",
    "#definition of the function with thw loop inside\n",
    "def changeval(a, b):\n",
    "    for i in range(0,a):\n",
    "        for j in range(0,b):\n",
    "            matriz[i][j]=i*np.sqrt(j)\n",
    "#call function            \n",
    "changeval(l[0]-1,l[0]-1)\n",
    "#time ends\n",
    "tp4=t.time()-tp4\n",
    "#Print results\n",
    "print (tp4)\n",
    "print (matriz)"
   ]
  },
  {
   "cell_type": "markdown",
   "metadata": {},
   "source": [
    "The last part of the point was the time comparition between the running a C++ code and a Python code."
   ]
  },
  {
   "cell_type": "code",
   "execution_count": 10,
   "metadata": {},
   "outputs": [
    {
     "name": "stdout",
     "output_type": "stream",
     "text": [
      "9.588984251022339\n",
      "Time of sum:  9.588984251022339\n",
      "Time of product:  9.31203317642212\n"
     ]
    }
   ],
   "source": [
    "x=0.0\n",
    "n=50000000 #Here the iteration are less than the C++ code\n",
    "\n",
    "tp5=0.0\n",
    "tp5=t.time()\n",
    "for i in range(1,n):#Sum of the n firts numbers\n",
    "    x=x+i\n",
    "tp5=t.time()-tp5\n",
    "\n",
    "tp6=0.0\n",
    "tp6=t.time()\n",
    "for i in range(1,n):#Product of the n firts numbers\n",
    "    x=x*i\n",
    "tp6=t.time()-tp6\n",
    "print (\"Time of sum: \", tp5)\n",
    "print (\"Time of product: \",tp6)"
   ]
  },
  {
   "cell_type": "code",
   "execution_count": 11,
   "metadata": {},
   "outputs": [
    {
     "data": {
      "image/png": "[encoded data removed]",
      "text/plain": [
       "<IPython.core.display.Image object>"
      ]
     },
     "execution_count": 11,
     "metadata": {},
     "output_type": "execute_result"
    }
   ],
   "source": [
    "from IPython.display import Image\n",
    "Image(filename='Punto1.png')"
   ]
  },
  {
   "cell_type": "markdown",
   "metadata": {},
   "source": [
    "The picture is the run time of the same sume and product code of Python on C++ language. "
   ]
  },
  {
   "cell_type": "markdown",
   "metadata": {},
   "source": [
    "<h3 aling='left' style='margin-top: 0px'> 2. Python Decorators</h4> "
   ]
  },
  {
   "cell_type": "code",
   "execution_count": 9,
   "metadata": {},
   "outputs": [],
   "source": [
    "import matplotlib.pyplot as plt"
   ]
  },
  {
   "cell_type": "code",
   "execution_count": 2,
   "metadata": {},
   "outputs": [],
   "source": [
    "def fib(i):\n",
    "    if i < 2:\n",
    "        return 1 \n",
    "    else:\n",
    "        return fib(i-1) + fib(i-2)\n",
    "values=[20,25,30,35]"
   ]
  },
  {
   "cell_type": "code",
   "execution_count": 3,
   "metadata": {},
   "outputs": [
    {
     "name": "stdout",
     "output_type": "stream",
     "text": [
      "13.2 ns ± 0.215 ns per loop (mean ± std. dev. of 7 runs, 100000000 loops each)\n"
     ]
    },
    {
     "data": {
      "text/plain": [
       "10946"
      ]
     },
     "execution_count": 3,
     "metadata": {},
     "output_type": "execute_result"
    }
   ],
   "source": [
    "%timeit pass\n",
    "fib(values[0])"
   ]
  },
  {
   "cell_type": "code",
   "execution_count": 4,
   "metadata": {},
   "outputs": [
    {
     "name": "stdout",
     "output_type": "stream",
     "text": [
      "15.4 ns ± 0.115 ns per loop (mean ± std. dev. of 7 runs, 100000000 loops each)\n"
     ]
    },
    {
     "data": {
      "text/plain": [
       "121393"
      ]
     },
     "execution_count": 4,
     "metadata": {},
     "output_type": "execute_result"
    }
   ],
   "source": [
    "%timeit pass\n",
    "fib(values[1])"
   ]
  },
  {
   "cell_type": "code",
   "execution_count": 5,
   "metadata": {},
   "outputs": [
    {
     "name": "stdout",
     "output_type": "stream",
     "text": [
      "13.2 ns ± 0.0495 ns per loop (mean ± std. dev. of 7 runs, 100000000 loops each)\n"
     ]
    },
    {
     "data": {
      "text/plain": [
       "1346269"
      ]
     },
     "execution_count": 5,
     "metadata": {},
     "output_type": "execute_result"
    }
   ],
   "source": [
    "%timeit pass\n",
    "fib(values[2])"
   ]
  },
  {
   "cell_type": "code",
   "execution_count": 6,
   "metadata": {},
   "outputs": [
    {
     "name": "stdout",
     "output_type": "stream",
     "text": [
      "14 ns ± 0.636 ns per loop (mean ± std. dev. of 7 runs, 100000000 loops each)\n"
     ]
    },
    {
     "data": {
      "text/plain": [
       "14930352"
      ]
     },
     "execution_count": 6,
     "metadata": {},
     "output_type": "execute_result"
    }
   ],
   "source": [
    "%timeit pass\n",
    "fib(values[3])"
   ]
  },
  {
   "cell_type": "code",
   "execution_count": 16,
   "metadata": {},
   "outputs": [
    {
     "data": {
      "image/png": "[encoded data removed]",
      "text/plain": [
       "<Figure size 432x288 with 1 Axes>"
      ]
     },
     "metadata": {
      "needs_background": "light"
     },
     "output_type": "display_data"
    }
   ],
   "source": [
    "tiempos=[13.2,15.4,13.2,14]\n",
    "plt.plot(values,tiempos,'*')\n",
    "plt.xlabel(\"Terms of Fibonacci Function\")\n",
    "plt.ylabel(\"Time (ns)\")\n",
    "plt.title(\"Fibonacci Function Excecution Time\")\n",
    "plt.show()"
   ]
  },
  {
   "cell_type": "code",
   "execution_count": 18,
   "metadata": {},
   "outputs": [
    {
     "name": "stdout",
     "output_type": "stream",
     "text": [
      "13.1 ns ± 0.112 ns per loop (mean ± std. dev. of 7 runs, 100000000 loops each)\n"
     ]
    }
   ],
   "source": [
    "from functools import wraps\n",
    "\n",
    "def cache(f):\n",
    "    cache = { }\n",
    "    @wraps(f)\n",
    "    def wrap(*arg):\n",
    "        if arg not in cache: cache[arg] = f(*arg)\n",
    "        return cache[arg]\n",
    "    return wrap\n",
    "\n",
    "@cache\n",
    "def fib(i):\n",
    "    if i < 2:\n",
    "        return 1 \n",
    "    else:\n",
    "        return fib(i-1) + fib(i-2)\n",
    "\n",
    "%timeit pass"
   ]
  },
  {
   "cell_type": "markdown",
   "metadata": {},
   "source": [
    "The next plot was a fail attempt to show the mistake in the time calculation."
   ]
  },
  {
   "cell_type": "code",
   "execution_count": 26,
   "metadata": {},
   "outputs": [
    {
     "ename": "TypeError",
     "evalue": "can only concatenate list (not \"float\") to list",
     "output_type": "error",
     "traceback": [
      "\u001b[0;31m---------------------------------------------------------------------------\u001b[0m",
      "\u001b[0;31mTypeError\u001b[0m                                 Traceback (most recent call last)",
      "\u001b[0;32m<ipython-input-26-f9d024f447d2>\u001b[0m in \u001b[0;36m<module>\u001b[0;34m\u001b[0m\n\u001b[1;32m     15\u001b[0m \u001b[0;34m\u001b[0m\u001b[0m\n\u001b[1;32m     16\u001b[0m \u001b[0;31m# do the plotting\u001b[0m\u001b[0;34m\u001b[0m\u001b[0;34m\u001b[0m\u001b[0;34m\u001b[0m\u001b[0m\n\u001b[0;32m---> 17\u001b[0;31m ax.errorbar(values, tiempos + 2.1, xerr=xerr, yerr=yerr,\n\u001b[0m\u001b[1;32m     18\u001b[0m             \u001b[0muplims\u001b[0m\u001b[0;34m=\u001b[0m\u001b[0muplims\u001b[0m\u001b[0;34m,\u001b[0m \u001b[0mlolims\u001b[0m\u001b[0;34m=\u001b[0m\u001b[0mlolims\u001b[0m\u001b[0;34m,\u001b[0m\u001b[0;34m\u001b[0m\u001b[0;34m\u001b[0m\u001b[0m\n\u001b[1;32m     19\u001b[0m             marker='o', markersize=8)\n",
      "\u001b[0;31mTypeError\u001b[0m: can only concatenate list (not \"float\") to list"
     ]
    },
    {
     "data": {
      "image/png": "[encoded data removed]",
      "text/plain": [
       "<Figure size 504x288 with 1 Axes>"
      ]
     },
     "metadata": {
      "needs_background": "light"
     },
     "output_type": "display_data"
    }
   ],
   "source": [
    "# example data\n",
    "xerr = 0.1\n",
    "yerr = 0.1\n",
    "\n",
    "# lower & upper limits of the error\n",
    "lolims = np.array([0.215, 0.115, 0.0495, 0.636], dtype=bool)\n",
    "uplims = np.array([0.215, 0.115, 0.0495, 0.636], dtype=bool)\n",
    "ls = 'dotted'\n",
    "\n",
    "fig, ax = plt.subplots(figsize=(7, 4))\n",
    "\n",
    "# standard error bars\n",
    "ax.errorbar(values, tiempos, xerr=xerr, yerr=yerr, linestyle=ls)\n",
    "\n",
    "\n",
    "# do the plotting\n",
    "ax.errorbar(values, tiempos + 2.1, xerr=xerr, yerr=yerr,\n",
    "            uplims=uplims, lolims=lolims,\n",
    "            marker='o', markersize=8)\n",
    "\n",
    "# tidy up the figure\n",
    "ax.set_xlim((0, 5.5))\n",
    "ax.set_title('Errorbar upper and lower limits')\n",
    "plt.show()"
   ]
  },
  {
   "cell_type": "code",
   "execution_count": null,
   "metadata": {},
   "outputs": [],
   "source": []
  }
 ],
 "metadata": {
  "kernelspec": {
   "display_name": "Python 3",
   "language": "python",
   "name": "python3"
  },
  "language_info": {
   "codemirror_mode": {
    "name": "ipython",
    "version": 3
   },
   "file_extension": ".py",
   "mimetype": "text/x-python",
   "name": "python",
   "nbconvert_exporter": "python",
   "pygments_lexer": "ipython3",
   "version": "3.7.1"
  }
 },
 "nbformat": 4,
 "nbformat_minor": 2
}
